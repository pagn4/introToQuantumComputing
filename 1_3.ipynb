{
 "cells": [
  {
   "cell_type": "code",
   "execution_count": 2,
   "metadata": {},
   "outputs": [
    {
     "name": "stdout",
     "output_type": "stream",
     "text": [
      "[[0 0 0 1 0 0 0 0 0 0]\n",
      " [0 0 0 0 0 0 1 0 0 0]\n",
      " [0 1 0 0 0 0 0 0 0 0]\n",
      " [0 0 0 0 1 0 0 0 0 0]\n",
      " [0 0 0 0 0 1 0 0 0 0]\n",
      " [0 0 1 0 0 0 0 0 0 0]\n",
      " [0 0 0 0 0 0 0 0 1 0]\n",
      " [0 0 0 0 0 0 0 0 0 1]\n",
      " [1 0 0 0 0 0 0 0 0 0]\n",
      " [0 0 0 0 0 0 0 1 0 0]]\n",
      "Current state:\n"
     ]
    },
    {
     "data": {
      "text/latex": [
       "$\\displaystyle \\left[\\begin{matrix}0\\\\0\\\\0\\\\0\\\\0\\\\0\\\\0\\\\1\\\\0\\\\0\\end{matrix}\\right]$"
      ],
      "text/plain": [
       "Matrix([\n",
       "[0],\n",
       "[0],\n",
       "[0],\n",
       "[0],\n",
       "[0],\n",
       "[0],\n",
       "[0],\n",
       "[1],\n",
       "[0],\n",
       "[0]])"
      ]
     },
     "metadata": {},
     "output_type": "display_data"
    },
    {
     "name": "stdout",
     "output_type": "stream",
     "text": [
      "After 5 steps:\n"
     ]
    },
    {
     "data": {
      "text/latex": [
       "$\\displaystyle \\left[\\begin{matrix}0\\\\0\\\\0\\\\0\\\\0\\\\0\\\\0\\\\0\\\\0\\\\1\\end{matrix}\\right]$"
      ],
      "text/plain": [
       "Matrix([\n",
       "[0],\n",
       "[0],\n",
       "[0],\n",
       "[0],\n",
       "[0],\n",
       "[0],\n",
       "[0],\n",
       "[0],\n",
       "[0],\n",
       "[1]])"
      ]
     },
     "metadata": {},
     "output_type": "display_data"
    },
    {
     "data": {
      "image/png": "[encoded data removed]",
      "text/plain": [
       "<Figure size 640x480 with 1 Axes>"
      ]
     },
     "metadata": {},
     "output_type": "display_data"
    }
   ],
   "source": [
    "import networkx as nx\n",
    "import numpy as np\n",
    "import sympy as sp\n",
    "import matplotlib.pyplot as plt\n",
    "from numpy.linalg import matrix_power\n",
    "#lab 1.3\n",
    "#1 uzd 8 var.\n",
    "#funkcija, kuri skaičiuoja būsenos pakeitimą po  k  laiko žingsnių. Taip pat pateikite sistemos grafą\n",
    "\n",
    "def stateChange(m, state, n):\n",
    "    mp = m**n\n",
    "    mp = mp*state\n",
    "    return mp\n",
    "\n",
    "matrix = np.matrix([\n",
    "    [0,0,0,1,0,0,0,0,0,0],\n",
    "    [0,0,0,0,0,0,1,0,0,0],\n",
    "    [0,1,0,0,0,0,0,0,0,0],\n",
    "    [0,0,0,0,1,0,0,0,0,0],\n",
    "    [0,0,0,0,0,1,0,0,0,0],\n",
    "    [0,0,1,0,0,0,0,0,0,0],\n",
    "    [0,0,0,0,0,0,0,0,1,0],\n",
    "    [0,0,0,0,0,0,0,0,0,1],\n",
    "    [1,0,0,0,0,0,0,0,0,0],\n",
    "    [0,0,0,0,0,0,0,1,0,0],\n",
    "])\n",
    "\n",
    "state = sp.zeros(10, 1)\n",
    "\n",
    "state[7,0]=1\n",
    "\n",
    "print (matrix)\n",
    "\n",
    "print (\"Current state:\")\n",
    "display(state)\n",
    "\n",
    "print(\"After 5 steps:\")\n",
    "display(stateChange(matrix, state, 3))\n",
    "\n",
    "#graphing the given matrix\n",
    "graph = nx.DiGraph()\n",
    "\n",
    "graph.add_edges_from([(1,9),(2,3),(3,6),(4,1),(5,4),(6,5),(7,2),(8,10),(9,7),(10,8)],weight=1)\n",
    "\n",
    "\n",
    "nx.draw_networkx(graph, arrows=True)\n",
    "\n"
   ]
  },
  {
   "cell_type": "code",
   "execution_count": 5,
   "metadata": {},
   "outputs": [
    {
     "data": {
      "text/latex": [
       "$\\displaystyle \\left[\\begin{matrix}\\frac{50}{231} & \\frac{8}{15} & \\frac{289}{1155}\\\\\\frac{67}{138} & \\frac{25}{138} & \\frac{1}{3}\\\\\\frac{3167}{10626} & \\frac{197}{690} & \\frac{481}{1155}\\end{matrix}\\right]$"
      ],
      "text/plain": [
       "Matrix([\n",
       "[    50/231,    8/15, 289/1155],\n",
       "[    67/138,  25/138,      1/3],\n",
       "[3167/10626, 197/690, 481/1155]])"
      ]
     },
     "metadata": {},
     "output_type": "display_data"
    },
    {
     "name": "stdout",
     "output_type": "stream",
     "text": [
      "Is doubly stochastic:  True\n"
     ]
    },
    {
     "data": {
      "text/latex": [
       "$\\displaystyle \\left[\\begin{matrix}1\\\\0\\\\0\\end{matrix}\\right]$"
      ],
      "text/plain": [
       "Matrix([\n",
       "[1],\n",
       "[0],\n",
       "[0]])"
      ]
     },
     "metadata": {},
     "output_type": "display_data"
    },
    {
     "data": {
      "text/latex": [
       "$\\displaystyle \\left[\\begin{matrix}\\frac{50}{231}\\\\\\frac{67}{138}\\\\\\frac{3167}{10626}\\end{matrix}\\right]$"
      ],
      "text/plain": [
       "Matrix([\n",
       "[    50/231],\n",
       "[    67/138],\n",
       "[3167/10626]])"
      ]
     },
     "metadata": {},
     "output_type": "display_data"
    },
    {
     "data": {
      "text/latex": [
       "$\\displaystyle \\left[\\begin{matrix}\\frac{23195695553}{72451787100}\\\\\\frac{428773319}{1236653880}\\\\\\frac{1110236116457}{3332782206600}\\end{matrix}\\right]$"
      ],
      "text/plain": [
       "Matrix([\n",
       "[    23195695553/72451787100],\n",
       "[       428773319/1236653880],\n",
       "[1110236116457/3332782206600]])"
      ]
     },
     "metadata": {},
     "output_type": "display_data"
    },
    {
     "data": {
      "text/latex": [
       "$\\displaystyle \\left[\\begin{matrix}\\frac{10904543639}{113799168}\\\\\\frac{8763370967}{113799168}\\\\- \\frac{9777057719}{56899584}\\end{matrix}\\right]$"
      ],
      "text/plain": [
       "Matrix([\n",
       "[10904543639/113799168],\n",
       "[ 8763370967/113799168],\n",
       "[ -9777057719/56899584]])"
      ]
     },
     "metadata": {},
     "output_type": "display_data"
    }
   ],
   "source": [
    "import random\n",
    "\n",
    "\n",
    "# 2 uzd\n",
    "# Parašykite funkciją, kuri generuoja atsitiktinę dvigubai stochastinę matricą nurodytos eilės  N . Taip pat\n",
    "# parašykite funkcijas, kurios:\n",
    "#   1. patikrina, ar duotoji kvadratinė matrica yra dvigubai stochastinė;\n",
    "#   2. apskaičiuoja sistemos būseną po  k  žingsnių pagal duotąją pradinę būseną. Atkreipkite dėmesį į tai, kad  k  gali būti ir neigiamas.\n",
    "\n",
    "def generate(n: int):\n",
    "    matrix = sp.zeros(n,n)\n",
    "    \n",
    "    for i in range (n):\n",
    "        for j in range (n):\n",
    "            matrix[i,j]=sp.Rational(1, n)\n",
    "    \n",
    "    c = random.randint(1, n**3)\n",
    "    for i in range(c):\n",
    "        x1 = random.randint(0, n-1)\n",
    "        y1 = random.randint(0, n-1)\n",
    "        x2 = random.randint(0, n-1)\n",
    "        y2 = random.randint(0, n-1)\n",
    "\n",
    "        a = random.randint(1, n*n)\n",
    "        b = random.randint(a, a**2)\n",
    "\n",
    "        d = sp.Rational(a, b)\n",
    "\n",
    "        if d<matrix[x1,y1] and d<matrix[x2,y2]:\n",
    "            matrix[x1,y1]-=d\n",
    "            matrix[x2,y2]-=d\n",
    "            matrix[x1,y2]+=d\n",
    "            matrix[x2,y1]+=d\n",
    "\n",
    "    return (matrix)\n",
    "\n",
    "\n",
    "\n",
    "def isStoch(n, matrix):\n",
    "    for i in range(n):\n",
    "        s1=0\n",
    "        s2=0\n",
    "        for j in range(n):\n",
    "            s1+=matrix[i,j]\n",
    "            s2+=matrix[j,i]\n",
    "        if s1!=1 or s2 != 1:\n",
    "            return False\n",
    "    return True\n",
    "\n",
    "\n",
    "\n",
    "def findStatus(n, m, state):\n",
    "    if n<0 and m.det()==0:\n",
    "        return \"Failed. Determinant = 0\"\n",
    "    else:\n",
    "        mp = m**n\n",
    "        mp = mp*state\n",
    "        return mp\n",
    "\n",
    "\n",
    "size = 3\n",
    "\n",
    "m = generate(size)\n",
    "display (m)\n",
    "\n",
    "print(\"Is doubly stochastic: \", isStoch(size, m))\n",
    "\n",
    "state = sp.zeros(size, 1)\n",
    "\n",
    "state[0,0]=1\n",
    "\n",
    "display(state)\n",
    "\n",
    "display(findStatus(1, m, state))\n",
    "display(findStatus(3, m, state))\n",
    "display(findStatus(-3, m, state))\n"
   ]
  },
  {
   "cell_type": "code",
   "execution_count": 7,
   "metadata": {},
   "outputs": [
    {
     "name": "stdout",
     "output_type": "stream",
     "text": [
      "[[-0.14784425+0.29568851j  0.54045343+0.42736507j -0.60166298-0.2323386j ]\n",
      " [-0.36961064-0.59137702j -0.29089017-0.10700145j -0.61442146+0.20020259j]\n",
      " [ 0.36961064-0.51745489j  0.2562909 +0.60292434j  0.170177  +0.3707633j ]]\n",
      "Is quantum system dynamic matrix: True\n",
      "\n",
      "State:\n"
     ]
    },
    {
     "data": {
      "text/latex": [
       "$\\displaystyle \\left[\\begin{matrix}1\\\\0\\\\0\\end{matrix}\\right]$"
      ],
      "text/plain": [
       "Matrix([\n",
       "[1],\n",
       "[0],\n",
       "[0]])"
      ]
     },
     "metadata": {},
     "output_type": "display_data"
    },
    {
     "data": {
      "text/latex": [
       "$\\displaystyle \\left[\\begin{matrix}0.0355472523737718 - 0.00646313679523123 i\\\\0.33729495150113 - 0.0355472523737718 i\\\\-0.246407090318191 - 0.0735181810457553 i\\end{matrix}\\right]$"
      ],
      "text/plain": [
       "Matrix([\n",
       "[0.0355472523737718 - 0.00646313679523123*I],\n",
       "[   0.33729495150113 - 0.0355472523737718*I],\n",
       "[ -0.246407090318191 - 0.0735181810457553*I]])"
      ]
     },
     "metadata": {},
     "output_type": "display_data"
    },
    {
     "data": {
      "text/latex": [
       "$\\displaystyle \\left[\\begin{matrix}-0.0655737704918033 - 0.0874316939890711 i\\\\-0.213114754098361 + 0.437158469945355 i\\\\-0.131147540983607 - 0.382513661202186 i\\end{matrix}\\right]$"
      ],
      "text/plain": [
       "Matrix([\n",
       "[-0.0655737704918033 - 0.0874316939890711*I],\n",
       "[  -0.213114754098361 + 0.437158469945355*I],\n",
       "[  -0.131147540983607 - 0.382513661202186*I]])"
      ]
     },
     "metadata": {},
     "output_type": "display_data"
    },
    {
     "data": {
      "text/latex": [
       "$\\displaystyle \\left[\\begin{matrix}27.2313592572974 + 4.95115622859953 i\\\\2.93219662912881 + 0.30902192019561 i\\\\-3.72658739295515 + 1.11186705822596 i\\end{matrix}\\right]$"
      ],
      "text/plain": [
       "Matrix([\n",
       "[ 27.2313592572974 + 4.95115622859953*I],\n",
       "[ 2.93219662912881 + 0.30902192019561*I],\n",
       "[-3.72658739295515 + 1.11186705822596*I]])"
      ]
     },
     "metadata": {},
     "output_type": "display_data"
    },
    {
     "name": "stdout",
     "output_type": "stream",
     "text": [
      "Probability from 2 to 1:  0.0126991723276797\n"
     ]
    }
   ],
   "source": [
    "import math\n",
    "from sympy import I, re, im\n",
    "\n",
    "# 3 uzd\n",
    "#Parašykite funkciją, kuri generuoja atsitiktinę kvantinės sistemos matricą nurodytos eilės  N. Taip pat parašykite funkcijas, kurios:\n",
    "#   1.patikrina, ar duotoji kvadratinė matrica yra kvantinės sistemos dinamikos matrica;\n",
    "#   2. apskaičiuoja sistemos būseną po  k  žingsnių pagal duotąją pradinę būseną. Atkreipkite dėmesį į tai, kad  k  gali būti ir neigiamas;\n",
    "#   3.apskaičiioja tikimybę pereiti nuo būsenos  i  į būseną  j  per laiką  T , jeigu žinoma, kad nuliniu laiko momentu sistema buvo būsenoje  i  su tikimybe  1 .\n",
    "\n",
    "\n",
    "def quantumMatrix(n):\n",
    "    matrix = np.zeros((n,n), dtype=complex)\n",
    "\n",
    "    for i in range(n):\n",
    "        for j in range(n):\n",
    "            real = np.random.randint(-10,10)\n",
    "            im = np.random.randint(-10, 10)\n",
    "            matrix[i,j]= complex(real, im)\n",
    "\n",
    "\n",
    "    \n",
    "    Q, R= np.linalg.qr(matrix)\n",
    "    \n",
    "\n",
    "    return Q\n",
    "\n",
    "def isQuantum (matrix, size):\n",
    "    for i in range(size):\n",
    "        prob=0\n",
    "        for j in range(size):\n",
    "            prob += np.sqrt(np.real(matrix[j, i])**2+np.imag(matrix[j,i])**2)**2\n",
    "        if not math.isclose(prob, 1):\n",
    "            return False\n",
    "\n",
    "    return True\n",
    "\n",
    "def findStatus(n, m, state):\n",
    "    mp = m**n\n",
    "    mp = mp*state\n",
    "    return mp\n",
    "\n",
    "\n",
    "def probFromItoJ (m, i , j, t, size)-> float:\n",
    "    state = sp.zeros(size, 1)\n",
    "    state [i, 0] = 1\n",
    "    mp = findStatus(t, m, state)\n",
    "\n",
    "    return re(mp[j])**2+im(mp[j])**2\n",
    "\n",
    "\n",
    "size = 3\n",
    "m = quantumMatrix(size)\n",
    "print (m)\n",
    "\n",
    "print (\"Is quantum system dynamic matrix:\", isQuantum(m, size))\n",
    "\n",
    "state =sp.zeros(size, 1)\n",
    "state[0,0]=1\n",
    "\n",
    "print (\"\\nState:\")\n",
    "display (state)\n",
    "\n",
    "display (findStatus(3, m, state))\n",
    "display (findStatus(2, m, state))\n",
    "display (findStatus(-3, m, state))\n",
    "\n",
    "\n",
    "# the matrix, from where, to where, size of matrix\n",
    "print (\"Probability from 2 to 1: \", probFromItoJ(m, 2, 1, 5, size))\n",
    "\n"
   ]
  },
  {
   "cell_type": "code",
   "execution_count": 8,
   "metadata": {},
   "outputs": [
    {
     "name": "stdout",
     "output_type": "stream",
     "text": [
      "[ 1.-4.j  0.+3.j -6.-3.j  5.+7.j  2.-7.j -6.+2.j  0.+4.j  4.+2.j]\n",
      "\n",
      " [ 0.06041221-0.24164884j  0.        +0.18123663j -0.36247326-0.18123663j\n",
      "  0.30206105+0.42288547j  0.12082442-0.42288547j -0.36247326+0.12082442j\n",
      "  0.        +0.24164884j  0.24164884+0.12082442j]\n",
      "0.062043795620437964\n",
      "0.03284671532846716\n",
      "0.16423357664233582\n",
      "0.27007299270072993\n",
      "0.19343065693430658\n",
      "0.14598540145985406\n",
      "0.05839416058394161\n",
      "0.07299270072992702\n"
     ]
    }
   ],
   "source": [
    "# 4 uzd\n",
    "#Tam tikros kvantinės sistemos būsenos aprašomos vektoriumi. Raskite kiekvienos būsenos tikimybę.\n",
    "\n",
    "from numpy.linalg import norm\n",
    "\n",
    "state = np.array([1-4j,3j,-6-3j,5+7j,2-7j,-6+2j,4j,4+2j], dtype=complex)\n",
    "\n",
    "print (state)\n",
    "\n",
    "normOfState = np.linalg.norm(state)\n",
    "normalized=state/normOfState\n",
    "print (\"\\n\",normalized)\n",
    "sum=0\n",
    "for i in normalized:\n",
    "    \n",
    "    prob = i.real**2+i.imag**2\n",
    "    print (prob)\n",
    "    sum+=prob\n"
   ]
  },
  {
   "cell_type": "code",
   "execution_count": 12,
   "metadata": {},
   "outputs": [
    {
     "name": "stdout",
     "output_type": "stream",
     "text": [
      "[ 0.33796318+0.14484136j -0.28968273-0.33796318j  0.24140227+0.24140227j\n",
      " -0.19312182-0.04828045j -0.28968273-0.14484136j  0.14484136-0.28968273j\n",
      " -0.28968273+0.24140227j -0.38624364-0.09656091j]\n",
      "Transitional amplitude:\n",
      " (-0.3937584084724599-0.20708775556699743j)\n"
     ]
    }
   ],
   "source": [
    "\n",
    "# 5 uzd\n",
    "# Vektorių  ψ  iš praeitos užduoties normuokite ir paskaičiuokite jo tranzicijos amplitudę į vektorių  ϕ  (kurį irgi normuokite).\n",
    "\n",
    "vect = np.array([7+3j, -6-7j, 5+5j, -4-1j, -6-3j, 3-6j, -6+5j, -8-2j], dtype=complex)\n",
    "\n",
    "vectNorm = np.linalg.norm(vect)\n",
    "normalizedVec = vect/vectNorm\n",
    "print (normalizedVec)\n",
    "\n",
    "transAmplitude = np.vdot(normalizedVec, normalized)\n",
    "\n",
    "print (\"Transitional amplitude:\\n\", transAmplitude)"
   ]
  },
  {
   "cell_type": "code",
   "execution_count": 105,
   "metadata": {},
   "outputs": [
    {
     "data": {
      "text/latex": [
       "$\\displaystyle \\left[\\begin{matrix}\\frac{1}{30} & 3.0 + 2.0 i\\\\1 & 2\\end{matrix}\\right]$"
      ],
      "text/plain": [
       "Matrix([\n",
       "[1/30, 3.0 + 2.0*I],\n",
       "[   1,           2]])"
      ]
     },
     "metadata": {},
     "output_type": "display_data"
    },
    {
     "data": {
      "text/latex": [
       "$\\displaystyle \\left[\\begin{matrix}1 & \\sqrt{2}\\\\\\frac{1}{2} & 1\\end{matrix}\\right]$"
      ],
      "text/plain": [
       "Matrix([\n",
       "[  1, sqrt(2)],\n",
       "[1/2,       1]])"
      ]
     },
     "metadata": {},
     "output_type": "display_data"
    },
    {
     "name": "stdout",
     "output_type": "stream",
     "text": [
      "Commutator:\n"
     ]
    },
    {
     "data": {
      "text/latex": [
       "$\\displaystyle \\left[\\begin{matrix}- \\sqrt{2} + 1.5 + i & - \\frac{59 \\sqrt{2}}{30}\\\\\\frac{59}{60} & -1.5 + \\sqrt{2} - i\\end{matrix}\\right]$"
      ],
      "text/plain": [
       "Matrix([\n",
       "[-sqrt(2) + 1.5 + I,     -59*sqrt(2)/30],\n",
       "[             59/60, -1.5 + sqrt(2) - I]])"
      ]
     },
     "metadata": {},
     "output_type": "display_data"
    }
   ],
   "source": [
    "# 6 uzd\n",
    "\n",
    "#Parašykite Python funkciją, kurios parametrai - dvi sympy matricos ir kuri grąžina jų komutatorių. Pademonstruokite funkcijos veikimą naudodami matricas, kuriose yra sympy simbolių.\n",
    "\n",
    "def findCommutator (A, B):\n",
    "    return A*B-B*A\n",
    "\n",
    "\n",
    "a = sp.Matrix([[sp.Rational(1, 30), complex(3, 2)],[1,2]], dtype=complex)\n",
    "b = sp.Matrix([[1, sp.sqrt(2)],[sp.Rational(1, 2) ,1]])\n",
    "\n",
    "display(a)\n",
    "display(b)\n",
    "\n",
    "print(\"Commutator:\")\n",
    "display (findCommutator(a,b))"
   ]
  }
 ],
 "metadata": {
  "interpreter": {
   "hash": "e7370f93d1d0cde622a1f8e1c04877d8463912d04d973331ad4851f04de6915a"
  },
  "kernelspec": {
   "display_name": "Python 3.11.7 64-bit",
   "language": "python",
   "name": "python3"
  },
  "language_info": {
   "codemirror_mode": {
    "name": "ipython",
    "version": 3
   },
   "file_extension": ".py",
   "mimetype": "text/x-python",
   "name": "python",
   "nbconvert_exporter": "python",
   "pygments_lexer": "ipython3",
   "version": "3.11.8"
  },
  "orig_nbformat": 4
 },
 "nbformat": 4,
 "nbformat_minor": 2
}
