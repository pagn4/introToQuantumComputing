{
 "cells": [
  {
   "cell_type": "code",
   "execution_count": 18,
   "metadata": {},
   "outputs": [
    {
     "data": {
      "text/latex": [
       "$\\displaystyle \\left[\\begin{matrix}\\frac{\\sqrt{2}}{2} & \\frac{\\sqrt{2}}{2}\\\\\\frac{\\sqrt{2}}{2} & - \\frac{\\sqrt{2}}{2}\\end{matrix}\\right]$"
      ],
      "text/plain": [
       "Matrix([\n",
       "[sqrt(2)/2,  sqrt(2)/2],\n",
       "[sqrt(2)/2, -sqrt(2)/2]])"
      ]
     },
     "metadata": {},
     "output_type": "display_data"
    },
    {
     "data": {
      "text/latex": [
       "$\\displaystyle \\left[\\begin{matrix}1\\\\0\\end{matrix}\\right]$"
      ],
      "text/plain": [
       "Matrix([\n",
       "[1],\n",
       "[0]])"
      ]
     },
     "metadata": {},
     "output_type": "display_data"
    },
    {
     "name": "stdout",
     "output_type": "stream",
     "text": [
      "vidurkis:\n"
     ]
    },
    {
     "data": {
      "text/latex": [
       "$\\displaystyle \\frac{\\sqrt{2}}{2}$"
      ],
      "text/plain": [
       "sqrt(2)/2"
      ]
     },
     "metadata": {},
     "output_type": "display_data"
    },
    {
     "name": "stdout",
     "output_type": "stream",
     "text": [
      "dispersija:\n"
     ]
    },
    {
     "data": {
      "text/latex": [
       "$\\displaystyle \\frac{1}{2}$"
      ],
      "text/plain": [
       "1/2"
      ]
     },
     "metadata": {},
     "output_type": "display_data"
    }
   ],
   "source": [
    "import sympy as sp\n",
    "import numpy as np\n",
    "import math\n",
    "\n",
    "# Parašykite kodą, kuris randa Ermito operatoriaus  Ω  tam tikros būsenos  ψ  vidurkį ir dispersiją\n",
    "\n",
    "def average(mat, st):\n",
    "    stDagger = st.conjugate().T\n",
    "    ats = stDagger*(mat*st)\n",
    "    return ats[0]\n",
    "def var(mat:sp.Matrix, st:sp.Matrix):\n",
    "    ave = average(mat,st)\n",
    "    size, n = mat.shape\n",
    "    r = sp.eye(size)*ave\n",
    "    half = mat - r\n",
    "    a = half.conjugate().T*half\n",
    "    ats = st.conjugate().T*a*st\n",
    "    return sp.nsimplify(ats[0])\n",
    "\n",
    "eOperator = sp.Matrix([[1, 1],[1,-1]], dtype= complex)/sp.sqrt(2)\n",
    "state = sp.Matrix([1, 0], dtype=complex)\n",
    "\n",
    "display (eOperator)\n",
    "display (state)\n",
    "print(\"vidurkis:\")\n",
    "display(average (eOperator, state))\n",
    "print (\"dispersija:\")\n",
    "display (var(eOperator, state))"
   ]
  },
  {
   "cell_type": "code",
   "execution_count": 11,
   "metadata": {},
   "outputs": [
    {
     "data": {
      "text/latex": [
       "$\\displaystyle \\left[\\begin{matrix}1\\\\0\\\\0\\\\0\\end{matrix}\\right]$"
      ],
      "text/plain": [
       "Matrix([\n",
       "[1],\n",
       "[0],\n",
       "[0],\n",
       "[0]])"
      ]
     },
     "metadata": {},
     "output_type": "display_data"
    },
    {
     "name": "stdout",
     "output_type": "stream",
     "text": [
      "t= 4\n"
     ]
    },
    {
     "data": {
      "text/latex": [
       "$\\displaystyle \\left[\\begin{matrix}\\cos{\\left(4 \\right)} & - \\sin{\\left(4 \\right)} & 0 & 0\\\\\\sin{\\left(4 \\right)} & \\cos{\\left(4 \\right)} & 0 & 0\\\\0 & 0 & \\cos{\\left(4 \\right)} & - \\sin{\\left(4 \\right)}\\\\0 & 0 & \\sin{\\left(4 \\right)} & \\cos{\\left(4 \\right)}\\end{matrix}\\right]$"
      ],
      "text/plain": [
       "Matrix([\n",
       "[cos(4), -sin(4),      0,       0],\n",
       "[sin(4),  cos(4),      0,       0],\n",
       "[     0,       0, cos(4), -sin(4)],\n",
       "[     0,       0, sin(4),  cos(4)]])"
      ]
     },
     "metadata": {},
     "output_type": "display_data"
    },
    {
     "name": "stdout",
     "output_type": "stream",
     "text": [
      "state when T= 3\n"
     ]
    },
    {
     "data": {
      "text/latex": [
       "$\\displaystyle \\left[\\begin{matrix}\\cos^{3}{\\left(4 \\right)} - 3 \\sin^{2}{\\left(4 \\right)} \\cos{\\left(4 \\right)}\\\\3 \\sin{\\left(4 \\right)} \\cos^{2}{\\left(4 \\right)} - \\sin^{3}{\\left(4 \\right)}\\\\0\\\\0\\end{matrix}\\right]$"
      ],
      "text/plain": [
       "Matrix([\n",
       "[cos(4)**3 - 3*sin(4)**2*cos(4)],\n",
       "[3*sin(4)*cos(4)**2 - sin(4)**3],\n",
       "[                             0],\n",
       "[                             0]])"
      ]
     },
     "metadata": {},
     "output_type": "display_data"
    }
   ],
   "source": [
    "\n",
    "#Sugalvokite kokią nors unitarinę 4x4 matricą, kurios elementai priklauso nuo tam tikro parametro  t ,\n",
    "#kuris interpretuojamas kaip laikas. Tarkime, kad laikas yra diskretus, t.y.  t=0,1,2,3,...  Pradiniu \n",
    "#laiko momentu sistema yra būsenoje  ψ .Parašykite kodą, kuris randa jos būseną nurodytu laiko momentu  T .\n",
    "\n",
    "def UTM(t) ->sp.Matrix:\n",
    "    unitaryTM = sp.Matrix([[sp.cos(t),-sp.sin(t), 0,0],[sp.sin(t),sp.cos(t), 0,0], [0,0, sp.cos(t),-sp.sin(t)], [0,0,sp.sin(t),sp.cos(t)]])\n",
    "    return unitaryTM\n",
    "\n",
    "def afterTime(st, time, t):\n",
    "        matrix = UTM(t)\n",
    "        print(\"t=\", t)\n",
    "        display(matrix)\n",
    "\n",
    "        print (\"state when T=\", time)\n",
    "        sT = matrix**time\n",
    "        sT *= st\n",
    "        display(sT)\n",
    "\n",
    "state = sp.Matrix([[1,0,0,0]])\n",
    "state = state.conjugate().T\n",
    "display(state)\n",
    "\n",
    "afterTime(state, 3, 4)\n",
    "\n"
   ]
  },
  {
   "cell_type": "code",
   "execution_count": 3,
   "metadata": {},
   "outputs": [
    {
     "data": {
      "text/latex": [
       "$\\displaystyle \\left[\\begin{matrix}\\frac{\\sqrt{2}}{2} & \\frac{\\sqrt{2}}{2}\\\\\\frac{\\sqrt{2}}{2} & - \\frac{\\sqrt{2}}{2}\\end{matrix}\\right]$"
      ],
      "text/plain": [
       "Matrix([\n",
       "[sqrt(2)/2,  sqrt(2)/2],\n",
       "[sqrt(2)/2, -sqrt(2)/2]])"
      ]
     },
     "metadata": {},
     "output_type": "display_data"
    },
    {
     "data": {
      "text/latex": [
       "$\\displaystyle \\left[\\begin{matrix}0 & - 1.0 i\\\\1.0 i & 0\\end{matrix}\\right]$"
      ],
      "text/plain": [
       "Matrix([\n",
       "[    0, -1.0*I],\n",
       "[1.0*I,      0]])"
      ]
     },
     "metadata": {},
     "output_type": "display_data"
    },
    {
     "data": {
      "text/latex": [
       "$\\displaystyle \\left[\\begin{matrix}1 & 0\\\\0 & -1\\end{matrix}\\right]$"
      ],
      "text/plain": [
       "Matrix([\n",
       "[1,  0],\n",
       "[0, -1]])"
      ]
     },
     "metadata": {},
     "output_type": "display_data"
    },
    {
     "data": {
      "text/latex": [
       "$\\displaystyle \\left[\\begin{matrix}1 & 0\\\\0 & e^{0.25 i \\pi}\\end{matrix}\\right]$"
      ],
      "text/plain": [
       "Matrix([\n",
       "[1,              0],\n",
       "[0, exp(0.25*I*pi)]])"
      ]
     },
     "metadata": {},
     "output_type": "display_data"
    },
    {
     "data": {
      "text/latex": [
       "$\\displaystyle \\left[\\begin{matrix}0 & 1\\\\1 & 0\\end{matrix}\\right]$"
      ],
      "text/plain": [
       "Matrix([\n",
       "[0, 1],\n",
       "[1, 0]])"
      ]
     },
     "metadata": {},
     "output_type": "display_data"
    },
    {
     "data": {
      "text/latex": [
       "$\\displaystyle \\left[\\begin{matrix}1 & 0 & 0 & 0\\\\0 & 1 & 0 & 0\\\\0 & 0 & 0 & 1\\\\0 & 0 & 1 & 0\\end{matrix}\\right]$"
      ],
      "text/plain": [
       "Matrix([\n",
       "[1, 0, 0, 0],\n",
       "[0, 1, 0, 0],\n",
       "[0, 0, 0, 1],\n",
       "[0, 0, 1, 0]])"
      ]
     },
     "metadata": {},
     "output_type": "display_data"
    },
    {
     "data": {
      "text/latex": [
       "$\\displaystyle \\left[\\begin{matrix}1 & 0 & 0 & 0\\\\0 & 1 & 0 & 0\\\\0 & 0 & 1 & 0\\\\0 & 0 & 0 & 1\\end{matrix}\\right]$"
      ],
      "text/plain": [
       "Matrix([\n",
       "[1, 0, 0, 0],\n",
       "[0, 1, 0, 0],\n",
       "[0, 0, 1, 0],\n",
       "[0, 0, 0, 1]])"
      ]
     },
     "metadata": {},
     "output_type": "display_data"
    },
    {
     "data": {
      "text/latex": [
       "$\\displaystyle \\left[\\begin{matrix}1 & 0 & 0 & 0\\\\0 & 1 & 0 & 0\\\\0 & 0 & 0 & 1\\\\0 & 0 & 1 & 0\\end{matrix}\\right]$"
      ],
      "text/plain": [
       "Matrix([\n",
       "[1, 0, 0, 0],\n",
       "[0, 1, 0, 0],\n",
       "[0, 0, 0, 1],\n",
       "[0, 0, 1, 0]])"
      ]
     },
     "metadata": {},
     "output_type": "display_data"
    },
    {
     "data": {
      "text/latex": [
       "$\\displaystyle \\left[\\begin{matrix}1 & 0 & 0 & 0 & 0 & 0 & 0 & 0\\\\0 & 1 & 0 & 0 & 0 & 0 & 0 & 0\\\\0 & 0 & 1 & 0 & 0 & 0 & 0 & 0\\\\0 & 0 & 0 & 1 & 0 & 0 & 0 & 0\\\\0 & 0 & 0 & 0 & 1 & 0 & 0 & 0\\\\0 & 0 & 0 & 0 & 0 & 1 & 0 & 0\\\\0 & 0 & 0 & 0 & 0 & 0 & 0 & 1\\\\0 & 0 & 0 & 0 & 0 & 0 & 1 & 0\\end{matrix}\\right]$"
      ],
      "text/plain": [
       "Matrix([\n",
       "[1, 0, 0, 0, 0, 0, 0, 0],\n",
       "[0, 1, 0, 0, 0, 0, 0, 0],\n",
       "[0, 0, 1, 0, 0, 0, 0, 0],\n",
       "[0, 0, 0, 1, 0, 0, 0, 0],\n",
       "[0, 0, 0, 0, 1, 0, 0, 0],\n",
       "[0, 0, 0, 0, 0, 1, 0, 0],\n",
       "[0, 0, 0, 0, 0, 0, 0, 1],\n",
       "[0, 0, 0, 0, 0, 0, 1, 0]])"
      ]
     },
     "metadata": {},
     "output_type": "display_data"
    },
    {
     "data": {
      "text/latex": [
       "$\\displaystyle \\left[\\begin{matrix}1 & 0 & 0 & 0\\\\0 & 0 & 1 & 0\\\\0 & 1 & 0 & 0\\\\0 & 0 & 0 & 1\\end{matrix}\\right]$"
      ],
      "text/plain": [
       "Matrix([\n",
       "[1, 0, 0, 0],\n",
       "[0, 0, 1, 0],\n",
       "[0, 1, 0, 0],\n",
       "[0, 0, 0, 1]])"
      ]
     },
     "metadata": {},
     "output_type": "display_data"
    },
    {
     "data": {
      "text/latex": [
       "$\\displaystyle \\left[\\begin{matrix}1 & 0\\\\0 & e^{1.0 i \\pi}\\end{matrix}\\right]$"
      ],
      "text/plain": [
       "Matrix([\n",
       "[1,             0],\n",
       "[0, exp(1.0*I*pi)]])"
      ]
     },
     "metadata": {},
     "output_type": "display_data"
    }
   ],
   "source": [
    "def H() -> sp.Matrix:\n",
    "    return  sp.Matrix([[1, 1],[1,-1]], dtype= complex)/sp.sqrt(2)\n",
    "\n",
    "def Y() -> sp.Matrix:\n",
    "    return sp.Matrix([[0, -1j],[1j, 0]], dtype=complex)\n",
    "\n",
    "def Z() -> sp.Matrix:\n",
    "    return sp.Matrix([[1, 0],[0, -1]])\n",
    "\n",
    "def T() -> sp.Matrix:\n",
    "    return sp.Matrix([[1, 0],[0, sp.E**(1j*(sp.pi/4))]], dtype=complex)\n",
    "\n",
    "def X() -> sp.Matrix:\n",
    "    return sp.Matrix([[0,1],[1,0]])\n",
    "\n",
    "def CX() ->sp.Matrix:\n",
    "    return sp.Matrix([[1,0,0,0], [0,1,0,0], [0,0,0,1], [0,0,1,0]])\n",
    "\n",
    "def CU(a) ->sp.Matrix:\n",
    "    return sp.Matrix([[1,0,0,0],[0,1,0,0],[0,0,a[0,0],a[0,1]], [0,0,a[1,0],a[1,1]]])\n",
    "def UC(a)->sp.Matrix:\n",
    "    return sp.Matrix([[1,0,0,0],[0,a[0,0],0,a[0,1]],[0,0,1,0], [0,a[1,0],0,a[1,1]]])\n",
    "\n",
    "def cNot() ->sp.Matrix:\n",
    "    return CX()\n",
    "\n",
    "def ccNot() ->sp.Matrix:\n",
    "    return sp.Matrix([[1,0,0,0,0,0,0,0], \n",
    "    [0,1,0,0,0,0,0,0], \n",
    "    [0,0,1,0,0,0,0,0],\n",
    "    [0,0,0,1,0,0,0,0],\n",
    "    [0,0,0,0,1,0,0,0],\n",
    "    [0,0,0,0,0,1,0,0],\n",
    "    [0,0,0,0,0,0,0,1],\n",
    "    [0,0,0,0,0,0,1,0]])\n",
    "\n",
    "def swap() ->sp.Matrix:\n",
    "    return sp.Matrix([[1,0,0,0],[0,0,1,0],[0,1,0,0],[0,0,0,1]])\n",
    "\n",
    "def p(angl) ->sp.Matrix:\n",
    "    return sp.Matrix([[1,0],[0, sp.E**(1j*angl)]])\n",
    "\n",
    "display(H())\n",
    "display(Y())\n",
    "display(Z())\n",
    "display(T())\n",
    "display(X())\n",
    "display(CX())\n",
    "display(CU(sp.Matrix([[1,0],[0,1]])))\n",
    "display(cNot())\n",
    "display(ccNot())\n",
    "display(swap())\n",
    "display(p(sp.pi))"
   ]
  },
  {
   "cell_type": "code",
   "execution_count": 21,
   "metadata": {},
   "outputs": [
    {
     "data": {
      "text/latex": [
       "$\\displaystyle \\left[\\begin{matrix}1\\\\0\\end{matrix}\\right]$"
      ],
      "text/plain": [
       "Matrix([\n",
       "[1],\n",
       "[0]])"
      ]
     },
     "metadata": {},
     "output_type": "display_data"
    },
    {
     "data": {
      "text/latex": [
       "$\\displaystyle \\left[\\begin{matrix}\\frac{\\sqrt{2}}{2}\\\\\\frac{\\sqrt{2}}{2}\\end{matrix}\\right]$"
      ],
      "text/plain": [
       "Matrix([\n",
       "[sqrt(2)/2],\n",
       "[sqrt(2)/2]])"
      ]
     },
     "metadata": {},
     "output_type": "display_data"
    }
   ],
   "source": [
    "#Naudomai praeitos užduoties kodą, parašykite Python funkciją, kuri pagal taip duotąją tinklo eilutę\n",
    "#ir pradinę  q  reikšmę apskaičiuotų jo reikšmę po visų vartų.\n",
    "def doGates(q, line):\n",
    "    for i in line:\n",
    "        if i == 'H':\n",
    "            q= H()*q\n",
    "        if i == 'Y':\n",
    "            q= Y()*q\n",
    "        if i == 'Z':\n",
    "            q= Z()*q\n",
    "        if i == 'T':\n",
    "            q= T()*q\n",
    "        if i == 'X':\n",
    "            q= X()*q\n",
    "    return q        \n",
    "    \n",
    "q = sp.Matrix([[1],[0]])\n",
    "display (q)\n",
    "\n",
    "display(doGates(q, \"XXHX\"))"
   ]
  },
  {
   "cell_type": "code",
   "execution_count": 25,
   "metadata": {},
   "outputs": [
    {
     "data": {
      "text/latex": [
       "$\\displaystyle \\left[\\begin{matrix}1\\\\0\\end{matrix}\\right]$"
      ],
      "text/plain": [
       "Matrix([\n",
       "[1],\n",
       "[0]])"
      ]
     },
     "metadata": {},
     "output_type": "display_data"
    },
    {
     "data": {
      "text/latex": [
       "$\\displaystyle \\left[\\begin{matrix}1\\\\0\\end{matrix}\\right]$"
      ],
      "text/plain": [
       "Matrix([\n",
       "[1],\n",
       "[0]])"
      ]
     },
     "metadata": {},
     "output_type": "display_data"
    },
    {
     "data": {
      "text/latex": [
       "$\\displaystyle \\left[\\begin{matrix}0\\\\1\\\\0\\\\0\\end{matrix}\\right]$"
      ],
      "text/plain": [
       "Matrix([\n",
       "[0],\n",
       "[1],\n",
       "[0],\n",
       "[0]])"
      ]
     },
     "metadata": {},
     "output_type": "display_data"
    }
   ],
   "source": [
    "import numpy as np\n",
    "\n",
    "def which(c):\n",
    "    if c == 'X':\n",
    "        return X()\n",
    "    if c == 'H':\n",
    "        return H()\n",
    "    if c == 'Y':\n",
    "        return Y()\n",
    "    if c == 'Z':\n",
    "        return Z()\n",
    "    if c == 'T':\n",
    "        return T()\n",
    "    if c == '-':\n",
    "        return sp.Matrix([[1,0], [0,1]])\n",
    "\n",
    "def twoGates(q0, q1, second, first):\n",
    "    a=0\n",
    "    q= sp.Matrix(np.kron(q0, q1))\n",
    "    for i in first:\n",
    "        if i != 'C' and second[a] !='C':\n",
    "            q = np.kron(which(i), which(second[a]))*q\n",
    "        else:\n",
    "            if i == 'C' or second[a]=='C':\n",
    "                if second[a]=='X' or i =='x':\n",
    "                    if i=='X':\n",
    "                        q=UC(sp.Matrix([[0,1],[1,0]]))*q\n",
    "                    \n",
    "                    else:\n",
    "                        q=CX()*q\n",
    "\n",
    "                if second[a]=='U' or i =='U':\n",
    "                    q=CU()*q\n",
    "            \n",
    "                    \n",
    "        a+=1\n",
    "    \n",
    "    return q\n",
    "\n",
    "q0 = sp.Matrix([[1],[0]])\n",
    "q1 = sp.Matrix([[1],[0]])\n",
    "display(q0,q1)\n",
    "q = twoGates(q0, q1, \"HHCXHH\", \"-HXXH-\")\n",
    "display(q)\n"
   ]
  },
  {
   "cell_type": "code",
   "execution_count": 26,
   "metadata": {},
   "outputs": [
    {
     "data": {
      "text/latex": [
       "$\\displaystyle \\left[\\begin{matrix}1 & 0 & 0 & 0\\\\0 & 1 & 0 & 0\\\\0 & 0 & 1 & 0\\\\0 & 0 & 0 & 1\\end{matrix}\\right]$"
      ],
      "text/plain": [
       "Matrix([\n",
       "[1, 0, 0, 0],\n",
       "[0, 1, 0, 0],\n",
       "[0, 0, 1, 0],\n",
       "[0, 0, 0, 1]])"
      ]
     },
     "metadata": {},
     "output_type": "display_data"
    },
    {
     "data": {
      "text/latex": [
       "$\\displaystyle \\left[\\begin{matrix}1\\\\0\\\\0\\\\0\\end{matrix}\\right]$"
      ],
      "text/plain": [
       "Matrix([\n",
       "[1],\n",
       "[0],\n",
       "[0],\n",
       "[0]])"
      ]
     },
     "metadata": {},
     "output_type": "display_data"
    }
   ],
   "source": [
    "# Tinklo unitarinio operatoriaus matrica\n",
    "\n",
    "def netUniOpMatrix(gate1, gate2) ->sp.Matrix:\n",
    "    a = 0\n",
    "    ats = sp.Matrix([[1,0,0,0],[0,1,0,0],[0,0,1,0],[0,0,0,1]])\n",
    "    for i in gate1:\n",
    "        if i == 'C' or gate2[a] == 'C':\n",
    "            if i == 'X':\n",
    "                ats=UC(sp.Matrix([[0,1],[1,0]]))*ats\n",
    "               \n",
    "            if gate2[a]== 'X':\n",
    "                ats = CX()*ats\n",
    "                 \n",
    "        else:\n",
    "            ats=np.kron(which(i), which(gate2[a]))*ats\n",
    "        a+=1\n",
    "    return ats\n",
    "\n",
    "gate1 = \"XXHH\"\n",
    "gate2 = \"XXHH\"\n",
    "\n",
    "display(netUniOpMatrix(gate1, gate2))\n",
    "display(netUniOpMatrix(gate1, gate2)*sp.Matrix([[1],[0],[0],[0]]))\n",
    "\n"
   ]
  }
 ],
 "metadata": {
  "interpreter": {
   "hash": "e7370f93d1d0cde622a1f8e1c04877d8463912d04d973331ad4851f04de6915a"
  },
  "kernelspec": {
   "display_name": "Python 3.11.7 64-bit",
   "language": "python",
   "name": "python3"
  },
  "language_info": {
   "codemirror_mode": {
    "name": "ipython",
    "version": 3
   },
   "file_extension": ".py",
   "mimetype": "text/x-python",
   "name": "python",
   "nbconvert_exporter": "python",
   "pygments_lexer": "ipython3",
   "version": "3.11.8"
  },
  "orig_nbformat": 4
 },
 "nbformat": 4,
 "nbformat_minor": 2
}
